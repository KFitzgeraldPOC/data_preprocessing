{
 "cells": [
  {
   "cell_type": "code",
   "execution_count": 1,
   "id": "indian-symposium",
   "metadata": {},
   "outputs": [],
   "source": [
    "import numpy as np"
   ]
  },
  {
   "cell_type": "markdown",
   "id": "liberal-venice",
   "metadata": {},
   "source": [
    "# How to Create an Array"
   ]
  },
  {
   "cell_type": "markdown",
   "id": "electoral-briefs",
   "metadata": {},
   "source": [
    "## Create arrays from lists"
   ]
  },
  {
   "cell_type": "code",
   "execution_count": 2,
   "id": "taken-conflict",
   "metadata": {},
   "outputs": [
    {
     "name": "stdout",
     "output_type": "stream",
     "text": [
      "[1 2 3]\n",
      "Dimension: 1\n"
     ]
    }
   ],
   "source": [
    "a = np.array([1,2,3])\n",
    "print(a)\n",
    "print(f'Dimension: {a.ndim}')"
   ]
  },
  {
   "cell_type": "code",
   "execution_count": 3,
   "id": "married-toner",
   "metadata": {},
   "outputs": [
    {
     "name": "stdout",
     "output_type": "stream",
     "text": [
      "[[1.5 2.  3. ]\n",
      " [4.  5.  6. ]]\n",
      "Dimension: 2\n"
     ]
    }
   ],
   "source": [
    "b = np.array([[1.5,2,3], [4,5,6]],dtype=float)\n",
    "print(b)\n",
    "print(f'Dimension: {b.ndim}')"
   ]
  },
  {
   "cell_type": "markdown",
   "id": "searching-segment",
   "metadata": {},
   "source": [
    "## Create arrays with 0's, 1's, and a random number"
   ]
  },
  {
   "cell_type": "code",
   "execution_count": 4,
   "id": "least-variety",
   "metadata": {},
   "outputs": [
    {
     "data": {
      "text/plain": [
       "array([[0., 0., 0.],\n",
       "       [0., 0., 0.]])"
      ]
     },
     "execution_count": 4,
     "metadata": {},
     "output_type": "execute_result"
    }
   ],
   "source": [
    "np.zeros([2,3]) #Create an array of zeros"
   ]
  },
  {
   "cell_type": "code",
   "execution_count": 5,
   "id": "small-source",
   "metadata": {
    "run_control": {
     "marked": true
    }
   },
   "outputs": [
    {
     "data": {
      "text/plain": [
       "array([1., 1., 1., 1.])"
      ]
     },
     "execution_count": 5,
     "metadata": {},
     "output_type": "execute_result"
    }
   ],
   "source": [
    " np.ones(4)"
   ]
  },
  {
   "cell_type": "code",
   "execution_count": 6,
   "id": "swiss-needle",
   "metadata": {},
   "outputs": [
    {
     "data": {
      "text/plain": [
       "array([[8, 8, 8],\n",
       "       [8, 8, 8],\n",
       "       [8, 8, 8]])"
      ]
     },
     "execution_count": 6,
     "metadata": {},
     "output_type": "execute_result"
    }
   ],
   "source": [
    "np.full([3,3], 8)"
   ]
  },
  {
   "cell_type": "markdown",
   "id": "musical-region",
   "metadata": {},
   "source": [
    "## Create arrays with a range of elements"
   ]
  },
  {
   "cell_type": "code",
   "execution_count": 7,
   "id": "automatic-nigeria",
   "metadata": {},
   "outputs": [
    {
     "data": {
      "text/plain": [
       "array([ 5, 10, 15, 20, 25])"
      ]
     },
     "execution_count": 7,
     "metadata": {},
     "output_type": "execute_result"
    }
   ],
   "source": [
    "np.arange(5,30,5)"
   ]
  },
  {
   "cell_type": "markdown",
   "id": "hearing-mailman",
   "metadata": {},
   "source": [
    "# Basic Operations"
   ]
  },
  {
   "cell_type": "code",
   "execution_count": 8,
   "id": "planned-andorra",
   "metadata": {},
   "outputs": [],
   "source": [
    "a = np.array([2,3,4])\n",
    "b = np.array([[3,4,5], [6,7,8]])"
   ]
  },
  {
   "cell_type": "markdown",
   "id": "voluntary-jason",
   "metadata": {},
   "source": [
    "## Addition"
   ]
  },
  {
   "cell_type": "code",
   "execution_count": 9,
   "id": "talented-hungary",
   "metadata": {},
   "outputs": [
    {
     "name": "stdout",
     "output_type": "stream",
     "text": [
      "[[ 5  7  9]\n",
      " [ 8 10 12]]\n",
      "[[ 5  7  9]\n",
      " [ 8 10 12]]\n"
     ]
    }
   ],
   "source": [
    "print(a+b)\n",
    "print(np.add(b,a))"
   ]
  },
  {
   "cell_type": "markdown",
   "id": "norman-collect",
   "metadata": {},
   "source": [
    "## Subtraction"
   ]
  },
  {
   "cell_type": "code",
   "execution_count": 10,
   "id": "enormous-assets",
   "metadata": {},
   "outputs": [
    {
     "name": "stdout",
     "output_type": "stream",
     "text": [
      "[[-1 -1 -1]\n",
      " [-4 -4 -4]]\n",
      "[[-1 -1 -1]\n",
      " [-4 -4 -4]]\n"
     ]
    }
   ],
   "source": [
    "print(a-b)\n",
    "print(np.subtract(a,b))"
   ]
  },
  {
   "cell_type": "markdown",
   "id": "checked-piano",
   "metadata": {},
   "source": [
    "## Multiplication"
   ]
  },
  {
   "cell_type": "code",
   "execution_count": 11,
   "id": "forced-thursday",
   "metadata": {
    "run_control": {
     "marked": true
    }
   },
   "outputs": [
    {
     "name": "stdout",
     "output_type": "stream",
     "text": [
      "[[ 6 12 20]\n",
      " [12 21 32]]\n",
      "[[ 6 12 20]\n",
      " [12 21 32]]\n"
     ]
    }
   ],
   "source": [
    "print(a*b)\n",
    "print(np.multiply(a,b))"
   ]
  },
  {
   "cell_type": "markdown",
   "id": "legitimate-genius",
   "metadata": {},
   "source": [
    "## Division"
   ]
  },
  {
   "cell_type": "code",
   "execution_count": 12,
   "id": "stunning-pulse",
   "metadata": {
    "run_control": {
     "marked": true
    }
   },
   "outputs": [
    {
     "name": "stdout",
     "output_type": "stream",
     "text": [
      "[[1.5        1.33333333 1.25      ]\n",
      " [3.         2.33333333 2.        ]]\n",
      "[[1.5        1.33333333 1.25      ]\n",
      " [3.         2.33333333 2.        ]]\n"
     ]
    }
   ],
   "source": [
    "print(b/a)\n",
    "print(np.divide(b,a))"
   ]
  },
  {
   "cell_type": "code",
   "execution_count": 13,
   "id": "described-president",
   "metadata": {},
   "outputs": [
    {
     "name": "stdout",
     "output_type": "stream",
     "text": [
      "9\n",
      "2\n",
      "[6 7 8]\n",
      "[[ 3  7 12]\n",
      " [ 6 13 21]]\n",
      "3.0\n",
      "1.707825127659933\n"
     ]
    }
   ],
   "source": [
    "print(a.sum())\n",
    "print(a.min())\n",
    "print(b.max(axis= 0))\n",
    "print(b.cumsum(axis= 1)) #Cumulative sum \n",
    "print(a.mean())\n",
    "print(np.std(b)) #Standard deviation"
   ]
  },
  {
   "cell_type": "markdown",
   "id": "dressed-renaissance",
   "metadata": {},
   "source": [
    "# Array Manipulation"
   ]
  },
  {
   "cell_type": "markdown",
   "id": "nominated-ceiling",
   "metadata": {},
   "source": [
    "## Transposing and Reshaping a matrix"
   ]
  },
  {
   "cell_type": "code",
   "execution_count": 14,
   "id": "familiar-qualification",
   "metadata": {},
   "outputs": [
    {
     "name": "stdout",
     "output_type": "stream",
     "text": [
      "[4 5 6 7 8 9]\n"
     ]
    }
   ],
   "source": [
    "c = np.array([4,5,6,7,8,9])\n",
    "print(c)"
   ]
  },
  {
   "cell_type": "code",
   "execution_count": 15,
   "id": "molecular-metadata",
   "metadata": {},
   "outputs": [
    {
     "name": "stdout",
     "output_type": "stream",
     "text": [
      "[[4 5 6]\n",
      " [7 8 9]]\n"
     ]
    }
   ],
   "source": [
    "print(c.reshape(2,3))"
   ]
  },
  {
   "cell_type": "code",
   "execution_count": 16,
   "id": "neutral-arizona",
   "metadata": {},
   "outputs": [
    {
     "name": "stdout",
     "output_type": "stream",
     "text": [
      "[[4 5]\n",
      " [6 7]\n",
      " [8 9]]\n"
     ]
    }
   ],
   "source": [
    "print(c.reshape(3,2))"
   ]
  },
  {
   "cell_type": "code",
   "execution_count": 17,
   "id": "bridal-amateur",
   "metadata": {},
   "outputs": [
    {
     "name": "stdout",
     "output_type": "stream",
     "text": [
      "[[4 6 8]\n",
      " [5 7 9]]\n"
     ]
    }
   ],
   "source": [
    "d = c.reshape(3,2)\n",
    "print(d.T)"
   ]
  },
  {
   "cell_type": "markdown",
   "id": "following-point",
   "metadata": {},
   "source": [
    "## Indexing and Slicing"
   ]
  },
  {
   "cell_type": "code",
   "execution_count": 18,
   "id": "smooth-bones",
   "metadata": {},
   "outputs": [
    {
     "name": "stdout",
     "output_type": "stream",
     "text": [
      "[[3 4 5]\n",
      " [6 7 8]]\n",
      "8\n"
     ]
    }
   ],
   "source": [
    "# Subsetting:\n",
    "b = np.array([[3,4,5], [6,7,8]])\n",
    "print(b)\n",
    "print(b[1,2])"
   ]
  },
  {
   "cell_type": "code",
   "execution_count": 19,
   "id": "stylish-niagara",
   "metadata": {},
   "outputs": [
    {
     "name": "stdout",
     "output_type": "stream",
     "text": [
      "[ 5  7  9 11 13 15 17 19]\n",
      "[5 7]\n"
     ]
    }
   ],
   "source": [
    "# Slicing:\n",
    "a = np.arange(5,20,2)\n",
    "print(a)\n",
    "print(a[0:2])"
   ]
  },
  {
   "cell_type": "code",
   "execution_count": 20,
   "id": "extreme-doctor",
   "metadata": {},
   "outputs": [
    {
     "data": {
      "text/plain": [
       "array([5, 7, 9])"
      ]
     },
     "execution_count": 20,
     "metadata": {},
     "output_type": "execute_result"
    }
   ],
   "source": [
    "# Boolean Indexing:\n",
    "a[a<10]"
   ]
  },
  {
   "cell_type": "markdown",
   "id": "dried-religion",
   "metadata": {},
   "source": [
    "## Concatenate arrays"
   ]
  },
  {
   "cell_type": "code",
   "execution_count": 21,
   "id": "employed-cleaner",
   "metadata": {},
   "outputs": [],
   "source": [
    "a = np.array([[1, 2], [3, 4]])\n",
    "b = np.array([[5, 6], [7, 8]])"
   ]
  },
  {
   "cell_type": "code",
   "execution_count": 22,
   "id": "ruled-version",
   "metadata": {},
   "outputs": [
    {
     "data": {
      "text/plain": [
       "array([[1, 2],\n",
       "       [3, 4],\n",
       "       [5, 6],\n",
       "       [7, 8]])"
      ]
     },
     "execution_count": 22,
     "metadata": {},
     "output_type": "execute_result"
    }
   ],
   "source": [
    "np.concatenate((a, b)) # rows\n",
    "# np.concatenate((a, b), axis=0) # rows"
   ]
  },
  {
   "cell_type": "code",
   "execution_count": 23,
   "id": "smoking-baking",
   "metadata": {},
   "outputs": [
    {
     "data": {
      "text/plain": [
       "array([[1, 2, 5, 6],\n",
       "       [3, 4, 7, 8]])"
      ]
     },
     "execution_count": 23,
     "metadata": {},
     "output_type": "execute_result"
    }
   ],
   "source": [
    "np.concatenate((a, b), axis=1) # columns"
   ]
  }
 ],
 "metadata": {
  "hide_input": false,
  "kernelspec": {
   "display_name": "Python 3",
   "language": "python",
   "name": "python3"
  },
  "language_info": {
   "codemirror_mode": {
    "name": "ipython",
    "version": 3
   },
   "file_extension": ".py",
   "mimetype": "text/x-python",
   "name": "python",
   "nbconvert_exporter": "python",
   "pygments_lexer": "ipython3",
   "version": "3.7.3"
  },
  "nbTranslate": {
   "displayLangs": [
    "es",
    "en"
   ],
   "hotkey": "alt-t",
   "langInMainMenu": true,
   "sourceLang": "en",
   "targetLang": "es",
   "useGoogleTranslate": true
  },
  "toc": {
   "base_numbering": 1,
   "nav_menu": {},
   "number_sections": true,
   "sideBar": true,
   "skip_h1_title": false,
   "title_cell": "Table of Contents",
   "title_sidebar": "Contents",
   "toc_cell": false,
   "toc_position": {},
   "toc_section_display": true,
   "toc_window_display": false
  }
 },
 "nbformat": 4,
 "nbformat_minor": 5
}
