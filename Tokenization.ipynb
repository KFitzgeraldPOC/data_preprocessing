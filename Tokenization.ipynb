{
 "cells": [
  {
   "cell_type": "markdown",
   "id": "configured-permission",
   "metadata": {},
   "source": [
    "# Tokenization"
   ]
  },
  {
   "cell_type": "code",
   "execution_count": 1,
   "id": "returning-spirit",
   "metadata": {},
   "outputs": [],
   "source": [
    "text = \"\"\"Here’s to the crazy ones, the misfits, the rebels, the troublemakers, \n",
    "the round pegs in the square holes. The ones who see things differently — they’re not fond of \n",
    "rules. You can quote them, disagree with them, glorify\n",
    "or vilify them, but the only thing you can’t do is ignore them because they\n",
    "change things. They push the human race forward, and while some may see them\n",
    "as the crazy ones, we see genius, because the ones who are crazy enough to think\n",
    "that they can change the world, are the ones who do.\"\"\""
   ]
  },
  {
   "cell_type": "markdown",
   "id": "hollywood-hotel",
   "metadata": {},
   "source": [
    "### .split()"
   ]
  },
  {
   "cell_type": "markdown",
   "id": "conscious-inventory",
   "metadata": {},
   "source": [
    "Splits whenever a white space is encountered"
   ]
  },
  {
   "cell_type": "code",
   "execution_count": 2,
   "id": "corrected-endorsement",
   "metadata": {
    "scrolled": true
   },
   "outputs": [
    {
     "name": "stdout",
     "output_type": "stream",
     "text": [
      "['Here’s', 'to', 'the', 'crazy', 'ones,', 'the', 'misfits,', 'the', 'rebels,', 'the', 'troublemakers,', 'the', 'round', 'pegs', 'in', 'the', 'square', 'holes.', 'The', 'ones', 'who', 'see', 'things', 'differently', '—', 'they’re', 'not', 'fond', 'of', 'rules.', 'You', 'can', 'quote', 'them,', 'disagree', 'with', 'them,', 'glorify', 'or', 'vilify', 'them,', 'but', 'the', 'only', 'thing', 'you', 'can’t', 'do', 'is', 'ignore', 'them', 'because', 'they', 'change', 'things.', 'They', 'push', 'the', 'human', 'race', 'forward,', 'and', 'while', 'some', 'may', 'see', 'them', 'as', 'the', 'crazy', 'ones,', 'we', 'see', 'genius,', 'because', 'the', 'ones', 'who', 'are', 'crazy', 'enough', 'to', 'think', 'that', 'they', 'can', 'change', 'the', 'world,', 'are', 'the', 'ones', 'who', 'do.']\n"
     ]
    }
   ],
   "source": [
    "# word tokenization\n",
    "print(text.split())\n",
    "# sentence tokenizer\n",
    "# text.split('. ')"
   ]
  },
  {
   "cell_type": "markdown",
   "id": "unlimited-killer",
   "metadata": {},
   "source": [
    "### NLTK"
   ]
  },
  {
   "cell_type": "markdown",
   "id": "balanced-insulation",
   "metadata": {},
   "source": [
    "It  considers punctuation as a token"
   ]
  },
  {
   "cell_type": "code",
   "execution_count": 3,
   "id": "negative-climb",
   "metadata": {
    "scrolled": true
   },
   "outputs": [
    {
     "name": "stdout",
     "output_type": "stream",
     "text": [
      "['Here', '’', 's', 'to', 'the', 'crazy', 'ones', ',', 'the', 'misfits', ',', 'the', 'rebels', ',', 'the', 'troublemakers', ',', 'the', 'round', 'pegs', 'in', 'the', 'square', 'holes', '.', 'The', 'ones', 'who', 'see', 'things', 'differently', '—', 'they', '’', 're', 'not', 'fond', 'of', 'rules', '.', 'You', 'can', 'quote', 'them', ',', 'disagree', 'with', 'them', ',', 'glorify', 'or', 'vilify', 'them', ',', 'but', 'the', 'only', 'thing', 'you', 'can', '’', 't', 'do', 'is', 'ignore', 'them', 'because', 'they', 'change', 'things', '.', 'They', 'push', 'the', 'human', 'race', 'forward', ',', 'and', 'while', 'some', 'may', 'see', 'them', 'as', 'the', 'crazy', 'ones', ',', 'we', 'see', 'genius', ',', 'because', 'the', 'ones', 'who', 'are', 'crazy', 'enough', 'to', 'think', 'that', 'they', 'can', 'change', 'the', 'world', ',', 'are', 'the', 'ones', 'who', 'do', '.']\n"
     ]
    }
   ],
   "source": [
    "from nltk.tokenize import word_tokenize\n",
    "print(word_tokenize(text))\n",
    "# sntence tokenizer\n",
    "# from nltk.tokenize import sent_tokenize\n",
    "# sent_tokenize(text)"
   ]
  },
  {
   "cell_type": "markdown",
   "id": "empty-yellow",
   "metadata": {},
   "source": [
    "### CountVectorizer - sklearn"
   ]
  },
  {
   "cell_type": "markdown",
   "id": "banned-meter",
   "metadata": {},
   "source": [
    "The default regexp select tokens of 2 or more alphanumeric characters (punctuation is completely ignored and always treated as a token separator)."
   ]
  },
  {
   "cell_type": "code",
   "execution_count": 4,
   "id": "relative-helmet",
   "metadata": {
    "scrolled": true
   },
   "outputs": [
    {
     "data": {
      "text/html": [
       "<div>\n",
       "<style scoped>\n",
       "    .dataframe tbody tr th:only-of-type {\n",
       "        vertical-align: middle;\n",
       "    }\n",
       "\n",
       "    .dataframe tbody tr th {\n",
       "        vertical-align: top;\n",
       "    }\n",
       "\n",
       "    .dataframe thead th {\n",
       "        text-align: right;\n",
       "    }\n",
       "</style>\n",
       "<table border=\"1\" class=\"dataframe\">\n",
       "  <thead>\n",
       "    <tr style=\"text-align: right;\">\n",
       "      <th></th>\n",
       "      <th>change</th>\n",
       "      <th>choose</th>\n",
       "      <th>crazy</th>\n",
       "      <th>differently</th>\n",
       "      <th>disagree</th>\n",
       "      <th>easy</th>\n",
       "      <th>fond</th>\n",
       "      <th>forward</th>\n",
       "      <th>genius</th>\n",
       "      <th>glorify</th>\n",
       "      <th>...</th>\n",
       "      <th>round</th>\n",
       "      <th>rules</th>\n",
       "      <th>square</th>\n",
       "      <th>thing</th>\n",
       "      <th>things</th>\n",
       "      <th>think</th>\n",
       "      <th>troublemakers</th>\n",
       "      <th>vilify</th>\n",
       "      <th>way</th>\n",
       "      <th>world</th>\n",
       "    </tr>\n",
       "  </thead>\n",
       "  <tbody>\n",
       "    <tr>\n",
       "      <th>jobs</th>\n",
       "      <td>2</td>\n",
       "      <td>0</td>\n",
       "      <td>3</td>\n",
       "      <td>1</td>\n",
       "      <td>1</td>\n",
       "      <td>0</td>\n",
       "      <td>1</td>\n",
       "      <td>1</td>\n",
       "      <td>1</td>\n",
       "      <td>1</td>\n",
       "      <td>...</td>\n",
       "      <td>1</td>\n",
       "      <td>1</td>\n",
       "      <td>1</td>\n",
       "      <td>1</td>\n",
       "      <td>2</td>\n",
       "      <td>1</td>\n",
       "      <td>1</td>\n",
       "      <td>1</td>\n",
       "      <td>0</td>\n",
       "      <td>1</td>\n",
       "    </tr>\n",
       "    <tr>\n",
       "      <th>gates</th>\n",
       "      <td>0</td>\n",
       "      <td>1</td>\n",
       "      <td>0</td>\n",
       "      <td>0</td>\n",
       "      <td>0</td>\n",
       "      <td>1</td>\n",
       "      <td>0</td>\n",
       "      <td>0</td>\n",
       "      <td>0</td>\n",
       "      <td>0</td>\n",
       "      <td>...</td>\n",
       "      <td>0</td>\n",
       "      <td>0</td>\n",
       "      <td>0</td>\n",
       "      <td>0</td>\n",
       "      <td>0</td>\n",
       "      <td>0</td>\n",
       "      <td>0</td>\n",
       "      <td>0</td>\n",
       "      <td>1</td>\n",
       "      <td>0</td>\n",
       "    </tr>\n",
       "  </tbody>\n",
       "</table>\n",
       "<p>2 rows × 34 columns</p>\n",
       "</div>"
      ],
      "text/plain": [
       "       change  choose  crazy  differently  disagree  easy  fond  forward  \\\n",
       "jobs        2       0      3            1         1     0     1        1   \n",
       "gates       0       1      0            0         0     1     0        0   \n",
       "\n",
       "       genius  glorify  ...  round  rules  square  thing  things  think  \\\n",
       "jobs        1        1  ...      1      1       1      1       2      1   \n",
       "gates       0        0  ...      0      0       0      0       0      0   \n",
       "\n",
       "       troublemakers  vilify  way  world  \n",
       "jobs               1       1    0      1  \n",
       "gates              0       0    1      0  \n",
       "\n",
       "[2 rows x 34 columns]"
      ]
     },
     "execution_count": 4,
     "metadata": {},
     "output_type": "execute_result"
    }
   ],
   "source": [
    "import pandas as pd\n",
    "from sklearn.feature_extraction.text import CountVectorizer\n",
    "texts = [\"\"\"Here’s to the crazy ones, the misfits, the rebels, the troublemakers, \n",
    "            the round pegs in the square holes. The ones who see things differently — they’re not fond of \n",
    "            rules. You can quote them, disagree with them, glorify\n",
    "            or vilify them, but the only thing you can’t do is ignore them because they\n",
    "            change things. They push the human race forward, and while some may see them\n",
    "            as the crazy ones, we see genius, because the ones who are crazy enough to think\n",
    "            that they can change the world, are the ones who do.\"\"\" ,\n",
    "         'I choose a lazy person to do a hard job. Because a lazy person will find an easy way to do it.']\n",
    "\n",
    "df = pd.DataFrame({'author': ['jobs', 'gates'], 'text':texts})\n",
    "cv = CountVectorizer(stop_words='english')\n",
    "cv_matrix = cv.fit_transform(df['text'])\n",
    "df_dtm = pd.DataFrame(cv_matrix.toarray(), index=df['author'].values, columns=cv.get_feature_names())\n",
    "df_dtm"
   ]
  },
  {
   "cell_type": "markdown",
   "id": "present-aberdeen",
   "metadata": {},
   "source": [
    "### Spacy"
   ]
  },
  {
   "cell_type": "markdown",
   "id": "dutch-fields",
   "metadata": {},
   "source": [
    "Tokenization in different languages (It  considers punctuation as a token)"
   ]
  },
  {
   "cell_type": "code",
   "execution_count": 5,
   "id": "changing-syracuse",
   "metadata": {
    "scrolled": false
   },
   "outputs": [
    {
     "name": "stdout",
     "output_type": "stream",
     "text": [
      "['Por', 'los', 'locos', '.', 'Los', 'marginados', '.', 'Los', 'rebeldes', '.', 'Los', 'problematicos', '.', '\\n', 'Los', 'inadaptados', '.', 'Los', 'que', 'ven', 'las', 'cosas', 'de', 'una', 'manera', 'distinta', '.', 'A', 'los', 'que', 'no', 'les', 'gustan', '\\n', 'las', 'reglas', '.', 'Y', 'a', 'los', 'que', 'no', 'respetan', 'el', '“', 'status', 'quo', '”', '.', 'Puedes', 'citarlos', ',', 'discrepar', 'de', 'ellos', ',', '\\n', 'ensalzarlos', 'o', 'vilipendiarlos', '.', 'Pero', 'lo', 'que', 'no', 'puedes', 'hacer', 'es', 'ignorarlos', '…', 'Porque', 'ellos', '\\n', 'cambian', 'las', 'cosas', ',', 'empujan', 'hacia', 'adelante', 'la', 'raza', 'humana', 'y', ',', 'aunque', 'algunos', 'puedan', '\\n', 'considerarlos', 'locos', ',', 'nosotros', 'vemos', 'en', 'ellos', 'a', 'genios', '.', 'Porque', 'las', 'personas', 'que', 'están', '\\n', 'lo', 'bastante', 'locas', 'como', 'para', 'creer', 'que', 'pueden', 'cambiar', 'el', 'mundo', ',', 'son', 'las', 'que', 'lo', 'logran', '.']\n"
     ]
    }
   ],
   "source": [
    "from spacy.lang.es import Spanish\n",
    "nlp = Spanish()\n",
    "\n",
    "text_spanish = \"\"\"Por los locos. Los marginados. Los rebeldes. Los problematicos. \n",
    "Los inadaptados. Los que ven las cosas de una manera distinta. A los que no les gustan\n",
    "las reglas. Y a los que no respetan el “status quo”. Puedes citarlos, discrepar de ellos,\n",
    "ensalzarlos o vilipendiarlos. Pero lo que no puedes hacer es ignorarlos… Porque ellos\n",
    "cambian las cosas, empujan hacia adelante la raza humana y, aunque algunos puedan\n",
    "considerarlos locos, nosotros vemos en ellos a genios. Porque las personas que están\n",
    "lo bastante locas como para creer que pueden cambiar el mundo, son las que lo logran.\"\"\"\n",
    "\n",
    "doc = nlp(text_spanish)\n",
    "\n",
    "tokens = [token.text for token in doc]\n",
    "print(tokens)"
   ]
  },
  {
   "cell_type": "markdown",
   "id": "geological-experiment",
   "metadata": {},
   "source": [
    "### Gensim"
   ]
  },
  {
   "cell_type": "markdown",
   "id": "final-spain",
   "metadata": {},
   "source": [
    "Gensim is quite strict with punctuation. It splits whenever a punctuation is encountered. "
   ]
  },
  {
   "cell_type": "code",
   "execution_count": 6,
   "id": "underlying-sacramento",
   "metadata": {
    "scrolled": true
   },
   "outputs": [
    {
     "name": "stdout",
     "output_type": "stream",
     "text": [
      "['Here', 's', 'to', 'the', 'crazy', 'ones', 'the', 'misfits', 'the', 'rebels', 'the', 'troublemakers', 'the', 'round', 'pegs', 'in', 'the', 'square', 'holes', 'The', 'ones', 'who', 'see', 'things', 'differently', 'they', 're', 'not', 'fond', 'of', 'rules', 'You', 'can', 'quote', 'them', 'disagree', 'with', 'them', 'glorify', 'or', 'vilify', 'them', 'but', 'the', 'only', 'thing', 'you', 'can', 't', 'do', 'is', 'ignore', 'them', 'because', 'they', 'change', 'things', 'They', 'push', 'the', 'human', 'race', 'forward', 'and', 'while', 'some', 'may', 'see', 'them', 'as', 'the', 'crazy', 'ones', 'we', 'see', 'genius', 'because', 'the', 'ones', 'who', 'are', 'crazy', 'enough', 'to', 'think', 'that', 'they', 'can', 'change', 'the', 'world', 'are', 'the', 'ones', 'who', 'do']\n"
     ]
    }
   ],
   "source": [
    "from gensim.utils import tokenize\n",
    "#word tokenization\n",
    "print(list(tokenize(text)))"
   ]
  }
 ],
 "metadata": {
  "kernelspec": {
   "display_name": "Python 3",
   "language": "python",
   "name": "python3"
  },
  "language_info": {
   "codemirror_mode": {
    "name": "ipython",
    "version": 3
   },
   "file_extension": ".py",
   "mimetype": "text/x-python",
   "name": "python",
   "nbconvert_exporter": "python",
   "pygments_lexer": "ipython3",
   "version": "3.7.3"
  }
 },
 "nbformat": 4,
 "nbformat_minor": 5
}
